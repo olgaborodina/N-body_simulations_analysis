{
 "cells": [
  {
   "cell_type": "code",
   "execution_count": 1,
   "metadata": {},
   "outputs": [],
   "source": [
    "import numpy as np\n",
    "import pandas as pd\n",
    "from pathlib import Path\n",
    "from scipy import stats\n",
    "from astropy import stats as astats\n",
    "import matplotlib.pyplot as plt"
   ]
  },
  {
   "cell_type": "code",
   "execution_count": 2,
   "metadata": {},
   "outputs": [],
   "source": [
    "def get_chisquare_stat(gamma_ini, sfe, dim):\n",
    "    INPUT_DIR = Path(f'./../experiment3/profiles_fit/gamma={gamma_ini}/')\n",
    "    chi2 = []\n",
    "    pvalue_chi2 = []\n",
    "\n",
    "    for snap in np.arange(3, 800, 1):\n",
    "        dmdr = pd.read_csv(INPUT_DIR / f'fit_dmdr_gamma={gamma_ini}_{sfe}_{snap}_{dim}.csv', \n",
    "                           header=0, delimiter=' ')\n",
    "        chi2_, pvalue_chi2_ = stats.chisquare(dmdr['dmdr'], dmdr['fit'])\n",
    "        chi2.append(chi2_)\n",
    "        pvalue_chi2.append(pvalue_chi2_)\n",
    "\n",
    "    gof = pd.DataFrame(data = {\n",
    "        'snap' : np.arange(3, 800, 1),\n",
    "        'chi2' : chi2,\n",
    "        'pvalue_chi2' : pvalue_chi2\n",
    "    })\n",
    "\n",
    "    nu = len(dmdr) - 3\n",
    "    chi_min = nu - np.sqrt(2 * nu)\n",
    "    chi_max = nu + np.sqrt(2 * nu)\n",
    "    return gof, chi_max"
   ]
  },
  {
   "cell_type": "code",
   "execution_count": 3,
   "metadata": {},
   "outputs": [],
   "source": [
    "def get_akaike_stat(gamma_ini, sfe, dim, n):\n",
    "    gof, chi_max = get_chisquare_stat(gamma_ini, sfe, dim)\n",
    "    \n",
    "    return gof['chi2'] + 2 * n + 2 * n * (n + 1) / (101 - n - 1)"
   ]
  },
  {
   "cell_type": "code",
   "execution_count": 4,
   "metadata": {},
   "outputs": [],
   "source": [
    "def get_ks_test(gamma_ini, sfe, dim):\n",
    "    INPUT_DIR = Path(f'./../experiment3/profiles_fit/gamma={gamma_ini}/')\n",
    "    distance = []\n",
    "    pvalue_ks = []\n",
    "    \n",
    "    for snap in np.arange(3, 800, 1):\n",
    "        dmdr = pd.read_csv(INPUT_DIR / f'fit_dmdr_gamma={gamma_ini}_{sfe}_{snap}_{dim}.csv', \n",
    "                           header=0, delimiter=' ')\n",
    "        distance_, pvalue_ks_ = stats.kstest(dmdr['dmdr'], dmdr['fit'])\n",
    "        distance.append(distance_)\n",
    "        pvalue_ks.append(pvalue_ks_)\n",
    "    gof = pd.DataFrame(data = {\n",
    "        'snap' : np.arange(3, 800, 1),\n",
    "        'distance' : distance,\n",
    "        'pvalue_ks' : pvalue_ks\n",
    "    })\n",
    "    return gof"
   ]
  },
  {
   "cell_type": "code",
   "execution_count": 5,
   "metadata": {},
   "outputs": [],
   "source": [
    "gamma_ini = '2.0'\n",
    "sfe = '0.20'\n",
    "gof, chi_max = get_chisquare_stat(gamma_ini, sfe, 3)\n",
    "akaike = get_akaike_stat(gamma_ini, sfe, 3, 5)\n",
    "gof_ks = get_ks_test(gamma_ini, sfe, 3)"
   ]
  },
  {
   "cell_type": "code",
   "execution_count": 8,
   "metadata": {},
   "outputs": [
    {
     "data": {
      "image/png": "[encoded data removed]",
      "text/plain": [
       "<Figure size 936x288 with 2 Axes>"
      ]
     },
     "metadata": {
      "needs_background": "light"
     },
     "output_type": "display_data"
    }
   ],
   "source": [
    "nrows = 1\n",
    "ncols = 2\n",
    "plt.rcParams.update({'font.size': 9})\n",
    "fig, axs = plt.subplots(nrows, ncols, figsize=(13,4))\n",
    "\n",
    "ax = axs[0]\n",
    "ax.scatter(gof['snap'], gof['chi2'], s=2)\n",
    "#ax.scatter(gof_ks['snap'], gof_ks['distance'], s=2)\n",
    "#ax.scatter(gof['snap'], akaike, s=2)\n",
    "ax.plot([0, 800], [chi_max, chi_max], c='black')\n",
    "ax.set_ylabel(r'$\\chi ^2$')\n",
    "ax.set_xlabel('time, snapshots')\n",
    "ax.set_yscale('log')\n",
    "\n",
    "ax = axs[1]\n",
    "ax.scatter(gof['snap'], gof['pvalue_chi2'], s=2)\n",
    "ax.scatter(gof_ks['snap'], gof_ks['pvalue_ks'], s=2)\n",
    "ax.set_ylabel('p-value')\n",
    "ax.set_xlabel('time, snapshots')\n",
    "ax.set_yscale('log')"
   ]
  },
  {
   "cell_type": "markdown",
   "metadata": {},
   "source": [
    "### Artciles\n",
    "\n",
    "Bootstrap https://datasciencechalktalk.com/2019/11/12/bootstrap-sampling-an-implementation-with-python/ \n",
    "\n",
    "Bootstrap implementation in astropy https://docs.astropy.org/en/stable/api/astropy.stats.bootstrap.html\n",
    "\n",
    "Chi square https://web.archive.org/web/20171022032306/http://vassarstats.net:80/textbook/ch8pt1.html\n",
    "https://web.archive.org/web/20171026121613/http://vassarstats.net/textbook/ch8pt2.html\n",
    "           \n",
    "About statistics http://articles.adsabs.harvard.edu/pdf/2006ASPC..351..127B\n",
    "https://physics.stackexchange.com/questions/107682/kolmogorov-smirnov-test-vs-chi-squared-test\n",
    "                 \n",
    "KS test https://asaip.psu.edu/Articles/beware-the-kolmogorov-smirnov-test/\n",
    "\n",
    "Slides about statistics http://astronomy.swin.edu.au/~cblake/StatsLecture3.pdf\n"
   ]
  }
 ],
 "metadata": {
  "kernelspec": {
   "display_name": "Python 3",
   "language": "python",
   "name": "python3"
  },
  "language_info": {
   "codemirror_mode": {
    "name": "ipython",
    "version": 3
   },
   "file_extension": ".py",
   "mimetype": "text/x-python",
   "name": "python",
   "nbconvert_exporter": "python",
   "pygments_lexer": "ipython3",
   "version": "3.7.6"
  }
 },
 "nbformat": 4,
 "nbformat_minor": 4
}
